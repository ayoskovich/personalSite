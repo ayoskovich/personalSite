{
 "cells": [
  {
   "cell_type": "markdown",
   "metadata": {},
   "source": [
    "## Decorators and `.pipe`\n",
    "By using decorators and the pipe function, it is really easy to create custom logging in python. I'll create some fake data to demonstrate."
   ]
  },
  {
   "cell_type": "code",
   "execution_count": 74,
   "metadata": {},
   "outputs": [],
   "source": [
    "import pandas as pd\n",
    "import numpy as np\n",
    "import functools"
   ]
  },
  {
   "cell_type": "code",
   "execution_count": 76,
   "metadata": {},
   "outputs": [
    {
     "data": {
      "text/html": [
       "<div>\n",
       "<style scoped>\n",
       "    .dataframe tbody tr th:only-of-type {\n",
       "        vertical-align: middle;\n",
       "    }\n",
       "\n",
       "    .dataframe tbody tr th {\n",
       "        vertical-align: top;\n",
       "    }\n",
       "\n",
       "    .dataframe thead th {\n",
       "        text-align: right;\n",
       "    }\n",
       "</style>\n",
       "<table border=\"1\" class=\"dataframe\">\n",
       "  <thead>\n",
       "    <tr style=\"text-align: right;\">\n",
       "      <th></th>\n",
       "      <th>group</th>\n",
       "      <th>x</th>\n",
       "      <th>y</th>\n",
       "    </tr>\n",
       "  </thead>\n",
       "  <tbody>\n",
       "    <tr>\n",
       "      <th>0</th>\n",
       "      <td>c</td>\n",
       "      <td>0</td>\n",
       "      <td>9.118736</td>\n",
       "    </tr>\n",
       "    <tr>\n",
       "      <th>1</th>\n",
       "      <td>b</td>\n",
       "      <td>7</td>\n",
       "      <td>-14.438416</td>\n",
       "    </tr>\n",
       "    <tr>\n",
       "      <th>2</th>\n",
       "      <td>c</td>\n",
       "      <td>1</td>\n",
       "      <td>18.244402</td>\n",
       "    </tr>\n",
       "    <tr>\n",
       "      <th>3</th>\n",
       "      <td>c</td>\n",
       "      <td>5</td>\n",
       "      <td>14.576251</td>\n",
       "    </tr>\n",
       "    <tr>\n",
       "      <th>4</th>\n",
       "      <td>a</td>\n",
       "      <td>7</td>\n",
       "      <td>-9.102582</td>\n",
       "    </tr>\n",
       "  </tbody>\n",
       "</table>\n",
       "</div>"
      ],
      "text/plain": [
       "  group  x          y\n",
       "0     c  0   9.118736\n",
       "1     b  7 -14.438416\n",
       "2     c  1  18.244402\n",
       "3     c  5  14.576251\n",
       "4     a  7  -9.102582"
      ]
     },
     "execution_count": 76,
     "metadata": {},
     "output_type": "execute_result"
    }
   ],
   "source": [
    "np.random.seed(5)\n",
    "df = pd.DataFrame({\n",
    "    'group':np.random.choice(['a', 'b', 'c'], 10),\n",
    "    'x':np.random.randint(0, 10, 10),\n",
    "    'y':np.random.normal(0, 10, 10)\n",
    "})\n",
    "df.head()"
   ]
  },
  {
   "cell_type": "markdown",
   "metadata": {},
   "source": [
    "### Now I'll define some processing functions. \n",
    "\n",
    "These functions all take the dataframe as an argument and pass the dataframe back. A few notes are in order:\n",
    "\n",
    "1. asdf\n",
    "2. asdf\n",
    "3. asdf"
   ]
  },
  {
   "cell_type": "code",
   "execution_count": 72,
   "metadata": {},
   "outputs": [],
   "source": [
    "def pDoc(func):\n",
    "    \"\"\"Print the docstring of a function.\"\"\"\n",
    "    @functools.wraps(func)\n",
    "    def wrapper(*args, **kwargs):\n",
    "        rv = func(*args, **kwargs)\n",
    "        print(\"{}(): \\n\\t{} -> {}\".format(func.__name__, func.__doc__, rv.shape))\n",
    "        return rv\n",
    "    return wrapper\n",
    "\n",
    "@pDoc\n",
    "def startPipe(df):\n",
    "    \"\"\"Begin pipeline\"\"\"\n",
    "    return df\n",
    "\n",
    "@pDoc\n",
    "def filterGroups(df):\n",
    "    \"\"\"Remove group b from the analysis.\"\"\"\n",
    "    return df.query('group != \"b\"')\n",
    "\n",
    "@pDoc\n",
    "def capVal(df):\n",
    "    \"\"\"Cap the value of y at 10.\"\"\"\n",
    "    dat = df.copy()\n",
    "    dat['y'] = dat['y'].apply(lambda x: 10 if x > 10 else x)\n",
    "    return dat\n",
    "\n",
    "@pDoc\n",
    "def getMean(df):\n",
    "    \"\"\"Add column as mean value of x by group.\"\"\"\n",
    "    dat = df.copy()\n",
    "    dat['g_mean'] = dat.groupby('group')['x'].transform(np.mean)\n",
    "    return dat"
   ]
  },
  {
   "cell_type": "code",
   "execution_count": 73,
   "metadata": {},
   "outputs": [
    {
     "name": "stdout",
     "output_type": "stream",
     "text": [
      "startPipe(): \n",
      "\tBegin pipeline -> (10, 3)\n",
      "filterGroups(): \n",
      "\tRemove group b from the analysis. -> (8, 3)\n",
      "getMean(): \n",
      "\tAdd column as mean value of x by group. -> (8, 4)\n",
      "capVal(): \n",
      "\tCap the value of y at 10. -> (8, 4)\n"
     ]
    },
    {
     "data": {
      "text/html": [
       "<div>\n",
       "<style scoped>\n",
       "    .dataframe tbody tr th:only-of-type {\n",
       "        vertical-align: middle;\n",
       "    }\n",
       "\n",
       "    .dataframe tbody tr th {\n",
       "        vertical-align: top;\n",
       "    }\n",
       "\n",
       "    .dataframe thead th {\n",
       "        text-align: right;\n",
       "    }\n",
       "</style>\n",
       "<table border=\"1\" class=\"dataframe\">\n",
       "  <thead>\n",
       "    <tr style=\"text-align: right;\">\n",
       "      <th></th>\n",
       "      <th>group</th>\n",
       "      <th>x</th>\n",
       "      <th>y</th>\n",
       "      <th>g_mean</th>\n",
       "    </tr>\n",
       "  </thead>\n",
       "  <tbody>\n",
       "    <tr>\n",
       "      <th>0</th>\n",
       "      <td>c</td>\n",
       "      <td>0</td>\n",
       "      <td>9.118736</td>\n",
       "      <td>3.0</td>\n",
       "    </tr>\n",
       "    <tr>\n",
       "      <th>2</th>\n",
       "      <td>c</td>\n",
       "      <td>1</td>\n",
       "      <td>10.000000</td>\n",
       "      <td>3.0</td>\n",
       "    </tr>\n",
       "    <tr>\n",
       "      <th>3</th>\n",
       "      <td>c</td>\n",
       "      <td>5</td>\n",
       "      <td>10.000000</td>\n",
       "      <td>3.0</td>\n",
       "    </tr>\n",
       "    <tr>\n",
       "      <th>4</th>\n",
       "      <td>a</td>\n",
       "      <td>7</td>\n",
       "      <td>-9.102582</td>\n",
       "      <td>3.5</td>\n",
       "    </tr>\n",
       "    <tr>\n",
       "      <th>6</th>\n",
       "      <td>a</td>\n",
       "      <td>1</td>\n",
       "      <td>-8.175481</td>\n",
       "      <td>3.5</td>\n",
       "    </tr>\n",
       "    <tr>\n",
       "      <th>7</th>\n",
       "      <td>a</td>\n",
       "      <td>4</td>\n",
       "      <td>-11.682795</td>\n",
       "      <td>3.5</td>\n",
       "    </tr>\n",
       "    <tr>\n",
       "      <th>8</th>\n",
       "      <td>c</td>\n",
       "      <td>6</td>\n",
       "      <td>-2.107796</td>\n",
       "      <td>3.0</td>\n",
       "    </tr>\n",
       "    <tr>\n",
       "      <th>9</th>\n",
       "      <td>a</td>\n",
       "      <td>2</td>\n",
       "      <td>-2.242997</td>\n",
       "      <td>3.5</td>\n",
       "    </tr>\n",
       "  </tbody>\n",
       "</table>\n",
       "</div>"
      ],
      "text/plain": [
       "  group  x          y  g_mean\n",
       "0     c  0   9.118736     3.0\n",
       "2     c  1  10.000000     3.0\n",
       "3     c  5  10.000000     3.0\n",
       "4     a  7  -9.102582     3.5\n",
       "6     a  1  -8.175481     3.5\n",
       "7     a  4 -11.682795     3.5\n",
       "8     c  6  -2.107796     3.0\n",
       "9     a  2  -2.242997     3.5"
      ]
     },
     "execution_count": 73,
     "metadata": {},
     "output_type": "execute_result"
    }
   ],
   "source": [
    "(\n",
    "df\n",
    "    .pipe(startPipe)\n",
    "    .pipe(filterGroups)\n",
    "    .pipe(getMean)\n",
    "    .pipe(capVal)\n",
    ")"
   ]
  },
  {
   "cell_type": "markdown",
   "metadata": {},
   "source": [
    "As you can see, I get a really nice log output that shows the function name, docstring, and the shape of its output. "
   ]
  }
 ],
 "metadata": {
  "kernelspec": {
   "display_name": "Python 3",
   "language": "python",
   "name": "python3"
  },
  "language_info": {
   "codemirror_mode": {
    "name": "ipython",
    "version": 3
   },
   "file_extension": ".py",
   "mimetype": "text/x-python",
   "name": "python",
   "nbconvert_exporter": "python",
   "pygments_lexer": "ipython3",
   "version": "3.7.6"
  }
 },
 "nbformat": 4,
 "nbformat_minor": 4
}
