{
 "cells": [
  {
   "cell_type": "raw",
   "metadata": {
    "Collapsed": "false"
   },
   "source": [
    "---\n",
    "title: Adventures in creating fake data\n",
    "date: 2020-04-09\n",
    "summary: 'and some insights into a larger idea'\n",
    "draft: true\n",
    "---"
   ]
  },
  {
   "cell_type": "markdown",
   "metadata": {},
   "source": [
    "- Main point\n",
    "    - Abstracting tasks (or partitioning work into 'context specific' and general can be helpful)\n",
    "- Summary\n",
    "    - Creating fake data from known rules can be a tad challenging\n",
    "    - In the development process, \"I'm waiting for data\" shouldn't stop someone from continuing\n",
    "    - Conditional probability can be dealt with\n",
    "- Motivation \n",
    "    - Worked on a project where we were waiting on someone to give us data\n",
    "    - We had given them a sheet to fill out, ensuring the data was in an easy to digest format (good consulting skill)"
   ]
  },
  {
   "cell_type": "code",
   "execution_count": 1,
   "metadata": {
    "Collapsed": "false"
   },
   "outputs": [],
   "source": [
    "import pandas as pd\n",
    "import numpy as np\n",
    "\n",
    "SEATS = ['silk', 'expression']\n",
    "AMOUNTS = [10, 20]\n",
    "\n",
    "df = pd.DataFrame({\n",
    "    'name':np.repeat(SEATS, len(AMOUNTS)),\n",
    "    'size':np.tile(AMOUNTS, len(SEATS))\n",
    "})"
   ]
  },
  {
   "cell_type": "markdown",
   "metadata": {},
   "source": [
    "*comment about np.repeat vs np.tile here*"
   ]
  },
  {
   "cell_type": "markdown",
   "metadata": {},
   "source": [
    "Now, if I wanted to add random prices, they would obviously have a distribution. However, let's say I just know that the 20 size will be around \\$5 more, that is also a distribution."
   ]
  },
  {
   "cell_type": "code",
   "execution_count": 2,
   "metadata": {},
   "outputs": [
    {
     "data": {
      "text/html": [
       "<div>\n",
       "<style scoped>\n",
       "    .dataframe tbody tr th:only-of-type {\n",
       "        vertical-align: middle;\n",
       "    }\n",
       "\n",
       "    .dataframe tbody tr th {\n",
       "        vertical-align: top;\n",
       "    }\n",
       "\n",
       "    .dataframe thead th {\n",
       "        text-align: right;\n",
       "    }\n",
       "</style>\n",
       "<table border=\"1\" class=\"dataframe\">\n",
       "  <thead>\n",
       "    <tr style=\"text-align: right;\">\n",
       "      <th></th>\n",
       "      <th>name</th>\n",
       "      <th>size</th>\n",
       "    </tr>\n",
       "  </thead>\n",
       "  <tbody>\n",
       "    <tr>\n",
       "      <th>0</th>\n",
       "      <td>silk</td>\n",
       "      <td>10</td>\n",
       "    </tr>\n",
       "    <tr>\n",
       "      <th>1</th>\n",
       "      <td>silk</td>\n",
       "      <td>20</td>\n",
       "    </tr>\n",
       "    <tr>\n",
       "      <th>2</th>\n",
       "      <td>expression</td>\n",
       "      <td>10</td>\n",
       "    </tr>\n",
       "    <tr>\n",
       "      <th>3</th>\n",
       "      <td>expression</td>\n",
       "      <td>20</td>\n",
       "    </tr>\n",
       "  </tbody>\n",
       "</table>\n",
       "</div>"
      ],
      "text/plain": [
       "         name  size\n",
       "0        silk    10\n",
       "1        silk    20\n",
       "2  expression    10\n",
       "3  expression    20"
      ]
     },
     "execution_count": 2,
     "metadata": {},
     "output_type": "execute_result"
    }
   ],
   "source": [
    "df"
   ]
  },
  {
   "cell_type": "code",
   "execution_count": 3,
   "metadata": {},
   "outputs": [
    {
     "data": {
      "text/plain": [
       "0    20\n",
       "1    30\n",
       "2    20\n",
       "3    30\n",
       "dtype: int64"
      ]
     },
     "execution_count": 3,
     "metadata": {},
     "output_type": "execute_result"
    }
   ],
   "source": [
    "def addPrices(df):\n",
    "    \"\"\" Conditionally add prices to the dataframe.\n",
    "    \n",
    "    df (pd.DataFrame): Input data\n",
    "    pct_mk (float): Percentage markup for the 20 size.\n",
    "    \"\"\"\n",
    "    # \n",
    "df.apply(lambda x: x['size'] + 10, axis=1)"
   ]
  }
 ],
 "metadata": {
  "kernelspec": {
   "display_name": "Python 3",
   "language": "python",
   "name": "python3"
  },
  "language_info": {
   "codemirror_mode": {
    "name": "ipython",
    "version": 3
   },
   "file_extension": ".py",
   "mimetype": "text/x-python",
   "name": "python",
   "nbconvert_exporter": "python",
   "pygments_lexer": "ipython3",
   "version": "3.9.5"
  }
 },
 "nbformat": 4,
 "nbformat_minor": 4
}
