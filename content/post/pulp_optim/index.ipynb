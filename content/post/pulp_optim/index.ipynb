{
 "cells": [
  {
   "cell_type": "raw",
   "metadata": {},
   "source": [
    "---\n",
    "title: Optimization in pulp\n",
    "date: 2022-02-17\n",
    "summary: 'other notes'\n",
    "draft: true\n",
    "---"
   ]
  },
  {
   "cell_type": "code",
   "execution_count": 2,
   "metadata": {},
   "outputs": [
    {
     "name": "stdout",
     "output_type": "stream",
     "text": [
      "Status: Optimal\n",
      "Objective function at optimal: -8.0\n",
      "Variables values:\n",
      "x = 2.0\n",
      "y = 0.0\n"
     ]
    }
   ],
   "source": [
    "from pulp import *\n",
    "\n",
    "x = LpVariable(\"x\", 0, 3)\n",
    "y = LpVariable(\"y\", 0, 1)\n",
    "\n",
    "prob = LpProblem(\"myProblem\", const.LpMinimize)\n",
    "\n",
    "prob += x + y <= 2 # Adding an inquality creates a constraint\n",
    "prob += -4 * x + y # Adding an expression creates the objective function\n",
    "\n",
    "status = prob.solve(PULP_CBC_CMD(msg=0))\n",
    "\n",
    "print(f'Status: {const.LpStatus[status]}')\n",
    "print(f'Objective function at optimal: {value(prob.objective)}')\n",
    "\n",
    "print('Variables values:')\n",
    "for var in prob.variables():\n",
    "    print(f'{var} = {var.varValue}')"
   ]
  },
  {
   "cell_type": "code",
   "execution_count": 38,
   "metadata": {},
   "outputs": [
    {
     "name": "stdout",
     "output_type": "stream",
     "text": [
      "[NbConvertApp] Converting notebook index.ipynb to markdown\n",
      "[NbConvertApp] Writing 723 bytes to index.md\n"
     ]
    }
   ],
   "source": [
    "!jupyter nbconvert --to markdown index.ipynb"
   ]
  },
  {
   "cell_type": "code",
   "execution_count": null,
   "metadata": {},
   "outputs": [],
   "source": []
  }
 ],
 "metadata": {
  "interpreter": {
   "hash": "aee8b7b246df8f9039afb4144a1f6fd8d2ca17a180786b69acc140d282b71a49"
  },
  "kernelspec": {
   "display_name": "Python 3.9.9 64-bit",
   "language": "python",
   "name": "python3"
  },
  "language_info": {
   "codemirror_mode": {
    "name": "ipython",
    "version": 3
   },
   "file_extension": ".py",
   "mimetype": "text/x-python",
   "name": "python",
   "nbconvert_exporter": "python",
   "pygments_lexer": "ipython3",
   "version": "3.9.5"
  },
  "orig_nbformat": 4
 },
 "nbformat": 4,
 "nbformat_minor": 2
}
