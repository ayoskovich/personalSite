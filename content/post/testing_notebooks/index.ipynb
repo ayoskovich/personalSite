{
 "cells": [
  {
   "cell_type": "raw",
   "metadata": {},
   "source": [
    "---\n",
    "title: Note to myself, from Jupyter\n",
    "date: 2022-02-16\n",
    "summary: 'and others interested in writing posts in jupyter notebooks'\n",
    "---"
   ]
  },
  {
   "cell_type": "markdown",
   "metadata": {},
   "source": [
    "I have written one of these posts using a jupyter notebook before, but it's been a while. When I went to write a new post in a notebook, I realized that I left myself absolutely no documentation about how render the `.ipynb` file once I was done. So, in the spirit of helping my future self and any other interested party, here's how I do it.\n",
    "\n",
    "---\n",
    "\n",
    "Create a jupyter notebook in a new folder under `post/`. The first cell should be the *raw* type and look something like this (yaml):\n",
    "\n",
    "```\n",
    "---\n",
    "title: Jupyter note to my future self\n",
    "date: 2022-02-16\n",
    "summary: ', and to others'\n",
    "---\n",
    "```\n",
    "\n",
    "Add whatever python content you want, and convert the notebook to markdown using:\n",
    "\n",
    "```\n",
    "!jupyter nbconvert --to markdown index.ipynb\n",
    "```\n",
    "\n",
    "That command (without the !) can be executed from the terminal instead of the notebook if you don't want readers to see it at the end.\n",
    "\n",
    "Once the `index.md` file is created, `blogdown::serve_site()` should render the notebook to your blogdown site.\n",
    "\n",
    "<br><br><br>"
   ]
  },
  {
   "cell_type": "code",
   "execution_count": 34,
   "metadata": {},
   "outputs": [
    {
     "name": "stdout",
     "output_type": "stream",
     "text": [
      "[NbConvertApp] Converting notebook index.ipynb to markdown\n",
      "[NbConvertApp] Writing 1334 bytes to index.md\n"
     ]
    }
   ],
   "source": [
    "# Look familiar? :)\n",
    "!jupyter nbconvert --to markdown index.ipynb"
   ]
  },
  {
   "cell_type": "code",
   "execution_count": null,
   "metadata": {},
   "outputs": [],
   "source": []
  }
 ],
 "metadata": {
  "interpreter": {
   "hash": "aee8b7b246df8f9039afb4144a1f6fd8d2ca17a180786b69acc140d282b71a49"
  },
  "kernelspec": {
   "display_name": "Python 3 (ipykernel)",
   "language": "python",
   "name": "python3"
  },
  "language_info": {
   "codemirror_mode": {
    "name": "ipython",
    "version": 3
   },
   "file_extension": ".py",
   "mimetype": "text/x-python",
   "name": "python",
   "nbconvert_exporter": "python",
   "pygments_lexer": "ipython3",
   "version": "3.9.9"
  }
 },
 "nbformat": 4,
 "nbformat_minor": 4
}
