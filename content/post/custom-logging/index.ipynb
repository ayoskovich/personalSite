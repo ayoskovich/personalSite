{
 "cells": [
  {
   "cell_type": "markdown",
   "metadata": {},
   "source": [
    "---\n",
    "title: Custom logging in python\n",
    "date: 2019-09-01\n",
    "summary: \"By using decorators and the .pipe method I can create an analysis path that easily documents itself.\"\n",
    "subtitle: \"Leveraging decorators to create an informed analysis path.\"\n",
    "---"
   ]
  },
  {
   "cell_type": "markdown",
   "metadata": {},
   "source": [
    "&emsp; When working with data, there are a lot of things I need to keep track of in my head.\n",
    "\n",
    "- How many observations do I have in total?\n",
    "- I just filtered some out, how many did I throw out?\n",
    "- Am I aggregating before or after I filter?\n",
    "- Where should I add this chunk of code?\n",
    "\n",
    "&emsp; In order to keep track of these questions when working in a jupyter notebook I end up having *tons* of cells that look like this:\n",
    "\n",
    "\n",
    "```\n",
    "df.head()\n",
    "```\n",
    "\n",
    "or\n",
    "\n",
    "```\n",
    "df.shape\n",
    "```\n",
    "\n",
    "&emsp; By using decorators and the `.pipe` method I can develop an analysis path that will give me customized output and automate this tedious cycle of `.head()` and `.shape`. Let's take a look."
   ]
  },
  {
   "cell_type": "code",
   "execution_count": 1,
   "metadata": {},
   "outputs": [
    {
     "data": {
      "text/html": [
       "<div>\n",
       "<style scoped>\n",
       "    .dataframe tbody tr th:only-of-type {\n",
       "        vertical-align: middle;\n",
       "    }\n",
       "\n",
       "    .dataframe tbody tr th {\n",
       "        vertical-align: top;\n",
       "    }\n",
       "\n",
       "    .dataframe thead th {\n",
       "        text-align: right;\n",
       "    }\n",
       "</style>\n",
       "<table border=\"1\" class=\"dataframe\">\n",
       "  <thead>\n",
       "    <tr style=\"text-align: right;\">\n",
       "      <th></th>\n",
       "      <th>group</th>\n",
       "      <th>x</th>\n",
       "      <th>y</th>\n",
       "    </tr>\n",
       "  </thead>\n",
       "  <tbody>\n",
       "    <tr>\n",
       "      <th>0</th>\n",
       "      <td>c</td>\n",
       "      <td>0</td>\n",
       "      <td>9.118736</td>\n",
       "    </tr>\n",
       "    <tr>\n",
       "      <th>1</th>\n",
       "      <td>b</td>\n",
       "      <td>7</td>\n",
       "      <td>-14.438416</td>\n",
       "    </tr>\n",
       "    <tr>\n",
       "      <th>2</th>\n",
       "      <td>c</td>\n",
       "      <td>1</td>\n",
       "      <td>18.244402</td>\n",
       "    </tr>\n",
       "    <tr>\n",
       "      <th>3</th>\n",
       "      <td>c</td>\n",
       "      <td>5</td>\n",
       "      <td>14.576251</td>\n",
       "    </tr>\n",
       "    <tr>\n",
       "      <th>4</th>\n",
       "      <td>a</td>\n",
       "      <td>7</td>\n",
       "      <td>-9.102582</td>\n",
       "    </tr>\n",
       "  </tbody>\n",
       "</table>\n",
       "</div>"
      ],
      "text/plain": [
       "  group  x          y\n",
       "0     c  0   9.118736\n",
       "1     b  7 -14.438416\n",
       "2     c  1  18.244402\n",
       "3     c  5  14.576251\n",
       "4     a  7  -9.102582"
      ]
     },
     "execution_count": 1,
     "metadata": {},
     "output_type": "execute_result"
    }
   ],
   "source": [
    "import pandas as pd\n",
    "import numpy as np\n",
    "import functools\n",
    "\n",
    "np.random.seed(5)\n",
    "df = pd.DataFrame({\n",
    "    'group':np.random.choice(['a', 'b', 'c'], 10),\n",
    "    'x':np.random.randint(0, 10, 10),\n",
    "    'y':np.random.normal(0, 10, 10)\n",
    "}); df.head()"
   ]
  },
  {
   "cell_type": "markdown",
   "metadata": {},
   "source": [
    "### Now I'll define some processing functions.\n",
    "\n",
    "&emsp; These functions all take the dataframe as an argument and pass the dataframe back. A few notes:\n",
    "\n",
    "- The `pDoc` decorator is what allows me to print out the docstring and the shapes of the df at each step of the process.\n",
    "- The `startPipe` function may seem useless, but I'm just using it the get the size of the dataframe at the beginning of the analysis path."
   ]
  },
  {
   "cell_type": "code",
   "execution_count": 2,
   "metadata": {},
   "outputs": [],
   "source": [
    "def pDoc(func):\n",
    "    \"\"\"Print the docstring of a function.\"\"\"\n",
    "    @functools.wraps(func)\n",
    "    def wrapper(*args, **kwargs):\n",
    "        rv = func(*args, **kwargs)\n",
    "        print(\"{}(): \\n\\t{} -> {}\".format(func.__name__, func.__doc__, rv.shape))\n",
    "        return rv\n",
    "    return wrapper\n",
    "\n",
    "@pDoc\n",
    "def startPipe(df):\n",
    "    \"\"\"Begin pipeline\"\"\"\n",
    "    return df\n",
    "\n",
    "@pDoc\n",
    "def filterGroups(df):\n",
    "    \"\"\"Remove group b from the analysis.\"\"\"\n",
    "    return df.query('group != \"b\"')\n",
    "\n",
    "@pDoc\n",
    "def capVal(df):\n",
    "    \"\"\"Cap the value of y at 10.\"\"\"\n",
    "    dat = df.copy()\n",
    "    dat['y'] = dat['y'].apply(lambda x: 10 if x > 10 else x)\n",
    "    return dat\n",
    "\n",
    "@pDoc\n",
    "def getMean(df):\n",
    "    \"\"\"Add column as mean value of x by group.\"\"\"\n",
    "    dat = df.copy()\n",
    "    dat['g_mean'] = dat.groupby('group')['x'].transform(np.mean)\n",
    "    return dat"
   ]
  },
  {
   "cell_type": "markdown",
   "metadata": {},
   "source": [
    "&emsp; Now I'll tie all these functions together using `.pipe`."
   ]
  },
  {
   "cell_type": "code",
   "execution_count": 3,
   "metadata": {},
   "outputs": [
    {
     "name": "stdout",
     "output_type": "stream",
     "text": [
      "startPipe(): \n",
      "\tBegin pipeline -> (10, 3)\n",
      "filterGroups(): \n",
      "\tRemove group b from the analysis. -> (8, 3)\n",
      "getMean(): \n",
      "\tAdd column as mean value of x by group. -> (8, 4)\n",
      "capVal(): \n",
      "\tCap the value of y at 10. -> (8, 4)\n"
     ]
    },
    {
     "data": {
      "text/html": [
       "<div>\n",
       "<style scoped>\n",
       "    .dataframe tbody tr th:only-of-type {\n",
       "        vertical-align: middle;\n",
       "    }\n",
       "\n",
       "    .dataframe tbody tr th {\n",
       "        vertical-align: top;\n",
       "    }\n",
       "\n",
       "    .dataframe thead th {\n",
       "        text-align: right;\n",
       "    }\n",
       "</style>\n",
       "<table border=\"1\" class=\"dataframe\">\n",
       "  <thead>\n",
       "    <tr style=\"text-align: right;\">\n",
       "      <th></th>\n",
       "      <th>group</th>\n",
       "      <th>x</th>\n",
       "      <th>y</th>\n",
       "      <th>g_mean</th>\n",
       "    </tr>\n",
       "  </thead>\n",
       "  <tbody>\n",
       "    <tr>\n",
       "      <th>0</th>\n",
       "      <td>c</td>\n",
       "      <td>0</td>\n",
       "      <td>9.118736</td>\n",
       "      <td>3.0</td>\n",
       "    </tr>\n",
       "    <tr>\n",
       "      <th>2</th>\n",
       "      <td>c</td>\n",
       "      <td>1</td>\n",
       "      <td>10.000000</td>\n",
       "      <td>3.0</td>\n",
       "    </tr>\n",
       "    <tr>\n",
       "      <th>3</th>\n",
       "      <td>c</td>\n",
       "      <td>5</td>\n",
       "      <td>10.000000</td>\n",
       "      <td>3.0</td>\n",
       "    </tr>\n",
       "    <tr>\n",
       "      <th>4</th>\n",
       "      <td>a</td>\n",
       "      <td>7</td>\n",
       "      <td>-9.102582</td>\n",
       "      <td>3.5</td>\n",
       "    </tr>\n",
       "    <tr>\n",
       "      <th>6</th>\n",
       "      <td>a</td>\n",
       "      <td>1</td>\n",
       "      <td>-8.175481</td>\n",
       "      <td>3.5</td>\n",
       "    </tr>\n",
       "  </tbody>\n",
       "</table>\n",
       "</div>"
      ],
      "text/plain": [
       "  group  x          y  g_mean\n",
       "0     c  0   9.118736     3.0\n",
       "2     c  1  10.000000     3.0\n",
       "3     c  5  10.000000     3.0\n",
       "4     a  7  -9.102582     3.5\n",
       "6     a  1  -8.175481     3.5"
      ]
     },
     "execution_count": 3,
     "metadata": {},
     "output_type": "execute_result"
    }
   ],
   "source": [
    "(df\n",
    "    .pipe(startPipe)\n",
    "    .pipe(filterGroups)\n",
    "    .pipe(getMean)\n",
    "    .pipe(capVal)).head()"
   ]
  },
  {
   "cell_type": "markdown",
   "metadata": {},
   "source": [
    "&emsp; As you can see, I get a really nice log output that shows the function name, docstring, and the shape of its output. I like this solution because it automates the really tedious process of having to ask myself \"how many records did I just throw out\". By using decorators, the function will always show me the shape of the output.\n",
    "\n",
    "&emsp; Also, this solution can be really easily extended / modified. Don't like what my `pDoc` decorator is doing? It's really easy to change and customize. You're really only limited by your imagination (and python)."
   ]
  },
  {
   "cell_type": "code",
   "execution_count": null,
   "metadata": {},
   "outputs": [],
   "source": []
  }
 ],
 "metadata": {
  "kernelspec": {
   "display_name": "Python 3",
   "language": "python",
   "name": "python3"
  },
  "language_info": {
   "codemirror_mode": {
    "name": "ipython",
    "version": 3
   },
   "file_extension": ".py",
   "mimetype": "text/x-python",
   "name": "python",
   "nbconvert_exporter": "python",
   "pygments_lexer": "ipython3",
   "version": "3.9.5"
  }
 },
 "nbformat": 4,
 "nbformat_minor": 4
}
